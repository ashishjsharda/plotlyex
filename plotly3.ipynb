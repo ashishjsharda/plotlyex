{
 "cells":[
  {
   "cell_type":"code",
   "source":[
    "import plotly.express as px\n",
    "df = px.data.iris()\n",
    "fig = px.scatter_3d(df, x='sepal_length', y='sepal_width', z='petal_width',\n",
    "              color='petal_length', size='petal_length', size_max=18,\n",
    "              symbol='species', opacity=0.6)\n",
    "\n",
    "\n",
    "fig.update_layout(margin=dict(l=0, r=0, b=0, t=0))"
   ],
   "execution_count":3,
   "outputs":[
    {
     "data":{
      "text\/plain":[
       "Unsupported"
      ]
     },
     "metadata":{
      
     },
     "output_type":"display_data"
    }
   ],
   "metadata":{
    "datalore":{
     "type":"CODE",
     "hide_input_from_viewers":false,
     "hide_output_from_viewers":false
    }
   }
  }
 ],
 "metadata":{
  "datalore":{
   "version":1,
   "computation_mode":"JUPYTER",
   "package_manager":"pip",
   "base_environment":"default",
   "packages":[
    
   ]
  }
 },
 "nbformat":4,
 "nbformat_minor":4
}